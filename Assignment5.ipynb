{
 "cells": [
  {
   "cell_type": "markdown",
   "id": "b4f10e71-216a-4680-9043-2e4b910ef0ec",
   "metadata": {},
   "source": [
    "Q1, Create a vehicle class with an init method having instance variables as name_of_vehicle, max_speed\n",
    "and average_of_vehicle.\n",
    "\n",
    "Ans--"
   ]
  },
  {
   "cell_type": "code",
   "execution_count": 1,
   "id": "5cc9dbb7-ab41-4df7-b2ad-447fe62348b7",
   "metadata": {},
   "outputs": [],
   "source": [
    "class vehicle:\n",
    "    def __init__(self,name_of_vehicle,max_speed,average_of_vehicle):\n",
    "        self.name_of_vehicle=name_of_vehicle\n",
    "        self.max_speed=max_speed\n",
    "        self.average_of_vehicle=average_of_vehicle\n",
    "    def return_vehicle_details(self):\n",
    "        return self.name_of_vehicle,self.max_speed,self.average_of_vehicle"
   ]
  },
  {
   "cell_type": "code",
   "execution_count": 2,
   "id": "ad300c3b-2509-4f96-a0de-66af22f8f57b",
   "metadata": {},
   "outputs": [],
   "source": [
    "car=vehicle(\"Toyota Camry\", 200, 35)"
   ]
  },
  {
   "cell_type": "code",
   "execution_count": 4,
   "id": "2eac44dd-17d5-4784-81e7-e4518ff88ba4",
   "metadata": {},
   "outputs": [
    {
     "data": {
      "text/plain": [
       "('Toyota Camry', 200, 35)"
      ]
     },
     "execution_count": 4,
     "metadata": {},
     "output_type": "execute_result"
    }
   ],
   "source": [
    "car.return_vehicle_details()"
   ]
  },
  {
   "cell_type": "markdown",
   "id": "2bc6b7f1-acdd-40c3-b441-f52680cb35eb",
   "metadata": {},
   "source": [
    "Q2. Create a child class car from the vehicle class created in Que 1, which will inherit the vehicle class.\n",
    "Create a method named seating_capacity which takes capacity as an argument and returns the name of\n",
    "the vehicle and its seating capacity.\n",
    "\n",
    "Ans--"
   ]
  },
  {
   "cell_type": "code",
   "execution_count": 46,
   "id": "38e65a4a-cbcb-4643-ace0-ca23ec05c5c5",
   "metadata": {},
   "outputs": [
    {
     "name": "stdout",
     "output_type": "stream",
     "text": [
      "The Toyota Camry has a seating capacity of 5.\n"
     ]
    }
   ],
   "source": [
    "class Vehicle:\n",
    "    def __init__(self, name_of_vehicle, max_speed, average_of_vehicle):\n",
    "        self.name_of_vehicle = name_of_vehicle\n",
    "        self.max_speed = max_speed\n",
    "        self.average_of_vehicle = average_of_vehicle\n",
    "\n",
    "\n",
    "class Car(Vehicle):\n",
    "    def seating_capacity(self, capacity):\n",
    "        return f\"The {self.name_of_vehicle} has a seating capacity of {capacity}.\"\n",
    "\n",
    "\n",
    "car = Car(\"Toyota Camry\", 200, 35)\n",
    "print(car.seating_capacity(5))\n"
   ]
  },
  {
   "cell_type": "markdown",
   "id": "d6a0659a-51fe-4b80-8f5a-e61dfae48fe2",
   "metadata": {},
   "source": [
    "Q3. What is multiple inheritance? Write a python code to demonstrate multiple inheritance.\n",
    "\n",
    "Ans--"
   ]
  },
  {
   "cell_type": "markdown",
   "id": "5fdf71b9-a184-42f0-8fb0-811d99470c29",
   "metadata": {},
   "source": [
    "Multiple inheritance is a feature in object-oriented programming languages that allows a class to inherit attributes and methods from multiple parent\n",
    "classes.In Python, a class can inherit from multiple base classes, and it can access the attributes and methods defined in each of the parent classes.\n",
    "\n",
    "Example-"
   ]
  },
  {
   "cell_type": "code",
   "execution_count": 54,
   "id": "a9fac476-33f0-4bfa-b15b-e3c90543103b",
   "metadata": {},
   "outputs": [
    {
     "name": "stdout",
     "output_type": "stream",
     "text": [
      "Sparrow is eating.\n",
      "Sparrow is flying.\n",
      "Sparrow is chirping.\n"
     ]
    }
   ],
   "source": [
    "# Define the parent classes\n",
    "class Animal:\n",
    "    def __init__(self, name):\n",
    "        self.name = name\n",
    "    \n",
    "    def eat(self):\n",
    "        print(f\"{self.name} is eating.\")\n",
    "\n",
    "class Flyer:\n",
    "    def fly(self):\n",
    "        print(f\"{self.name} is flying.\")\n",
    "\n",
    "# Define the child class inheriting from both parent classes\n",
    "class Bird(Animal, Flyer):\n",
    "    def __init__(self, name):\n",
    "        # Call the constructors of both parent classes\n",
    "        Animal.__init__(self, name)\n",
    "        Flyer.__init__(self)\n",
    "    \n",
    "    def chirp(self):\n",
    "        print(f\"{self.name} is chirping.\")\n",
    "\n",
    "# Create an instance of the Bird class and test the methods\n",
    "bird = Bird(\"Sparrow\")\n",
    "bird.eat()\n",
    "bird.fly() \n",
    "bird.chirp() \n"
   ]
  },
  {
   "cell_type": "markdown",
   "id": "2c714c1c-042c-4add-8970-5507ba032c2c",
   "metadata": {},
   "source": [
    "Q4. What are getter and setter in python? Create a class and create a getter and a setter method in this\n",
    "class.\n",
    "\n",
    "Ans--"
   ]
  },
  {
   "cell_type": "markdown",
   "id": "8d0af72f-5611-4001-a711-1e1d3a635d7f",
   "metadata": {},
   "source": [
    "In Python, getters and setters are methods used to access and modify the values of class attributes, providing a controlled way to interact with the object's internal state. Getters retrieve the value of an attribute, while setters modify the value of an attribute, usually with some additional validation or logic.\n",
    "\n",
    "Example--"
   ]
  },
  {
   "cell_type": "code",
   "execution_count": 66,
   "id": "a2cef85a-8308-4251-a266-fe9dd1ca7a6e",
   "metadata": {},
   "outputs": [
    {
     "name": "stdout",
     "output_type": "stream",
     "text": [
      "Abhishek\n",
      "Abhishek Mishra\n",
      "Name cannot be empty.\n"
     ]
    }
   ],
   "source": [
    "class Person:\n",
    "    def __init__(self, name):\n",
    "        self._name = name\n",
    "    \n",
    "    # Getter method\n",
    "    def get_name(self):\n",
    "        return self._name\n",
    "    \n",
    "    # Setter method\n",
    "    def set_name(self, new_name):\n",
    "        if new_name:\n",
    "            self._name = new_name\n",
    "        else:\n",
    "            print(\"Name cannot be empty.\")\n",
    "    \n",
    "# Create an instance of the Person class\n",
    "person = Person(\"Abhishek\")\n",
    "\n",
    "# Use the getter to retrieve the name\n",
    "print(person.get_name())\n",
    "\n",
    "# Use the setter to modify the name\n",
    "person.set_name(\"Abhishek Mishra\")\n",
    "print(person.get_name())\n",
    "\n",
    "# Try setting an empty name\n",
    "person.set_name(\"\")\n",
    "\n"
   ]
  },
  {
   "cell_type": "markdown",
   "id": "395d6c1d-99ea-437d-958a-2e8b8e255db2",
   "metadata": {},
   "source": [
    "Q5.What is method overriding in python? Write a python code to demonstrate method overriding.\n",
    "\n",
    "Ans--"
   ]
  },
  {
   "cell_type": "markdown",
   "id": "4113be73-46c6-48f0-9273-618b56c174c6",
   "metadata": {},
   "source": [
    "Method overriding is a concept in object-oriented programming where a subclass provides its own implementation of a method that is already defined in its superclass. The method in the subclass overrides the implementation of the method in the superclass, allowing the subclass to provide a specialized behavior.\n",
    "\n",
    "In Python, method overriding is achieved by defining a method with the same name in the subclass as the one in the superclass. When the method is called on an instance of the subclass, the implementation in the subclass is executed instead of the one in the superclass.\n",
    "\n",
    "Example--"
   ]
  },
  {
   "cell_type": "code",
   "execution_count": 67,
   "id": "b9316992-d371-430c-883f-23a916bdafaa",
   "metadata": {},
   "outputs": [
    {
     "name": "stdout",
     "output_type": "stream",
     "text": [
      "The animal makes a sound.\n",
      "The dog barks.\n",
      "The cat meows.\n"
     ]
    }
   ],
   "source": [
    "class Animal:\n",
    "    def sound(self):\n",
    "        print(\"The animal makes a sound.\")\n",
    "\n",
    "class Dog(Animal):\n",
    "    def sound(self):\n",
    "        print(\"The dog barks.\")\n",
    "\n",
    "class Cat(Animal):\n",
    "    def sound(self):\n",
    "        print(\"The cat meows.\")\n",
    "\n",
    "# Create instances of the classes\n",
    "animal = Animal()\n",
    "dog = Dog()\n",
    "cat = Cat()\n",
    "\n",
    "# Call the sound method on each instance\n",
    "animal.sound()  \n",
    "dog.sound()     \n",
    "cat.sound()     "
   ]
  },
  {
   "cell_type": "code",
   "execution_count": null,
   "id": "a58ff539-6a8d-4a2a-8efe-ba07633f0288",
   "metadata": {},
   "outputs": [],
   "source": []
  }
 ],
 "metadata": {
  "kernelspec": {
   "display_name": "Python 3 (ipykernel)",
   "language": "python",
   "name": "python3"
  },
  "language_info": {
   "codemirror_mode": {
    "name": "ipython",
    "version": 3
   },
   "file_extension": ".py",
   "mimetype": "text/x-python",
   "name": "python",
   "nbconvert_exporter": "python",
   "pygments_lexer": "ipython3",
   "version": "3.10.8"
  }
 },
 "nbformat": 4,
 "nbformat_minor": 5
}
